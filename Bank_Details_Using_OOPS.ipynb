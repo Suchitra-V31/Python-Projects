{
  "nbformat": 4,
  "nbformat_minor": 0,
  "metadata": {
    "colab": {
      "name": "Bank Details Using OOPS.ipynb",
      "provenance": [],
      "authorship_tag": "ABX9TyNKq/5gGKGyI+m4tMDOzY3x",
      "include_colab_link": true
    },
    "kernelspec": {
      "name": "python3",
      "display_name": "Python 3"
    },
    "language_info": {
      "name": "python"
    }
  },
  "cells": [
    {
      "cell_type": "markdown",
      "metadata": {
        "id": "view-in-github",
        "colab_type": "text"
      },
      "source": [
        "<a href=\"https://colab.research.google.com/github/Suchitra-V31/Python-Projects/blob/main/Bank_Details_Using_OOPS.ipynb\" target=\"_parent\"><img src=\"https://colab.research.google.com/assets/colab-badge.svg\" alt=\"Open In Colab\"/></a>"
      ]
    },
    {
      "cell_type": "code",
      "execution_count": 1,
      "metadata": {
        "colab": {
          "base_uri": "https://localhost:8080/"
        },
        "id": "449eP7bfKdSD",
        "outputId": "9dd5ba7f-b8d0-4488-d4b2-1816b8154f4c"
      },
      "outputs": [
        {
          "output_type": "stream",
          "name": "stdout",
          "text": [
            "*****USER DETAILS*****\n",
            "NAME:  suji\n",
            "AGE:  19\n",
            "GENDER:  female\n",
            "ACCOUNTNUMBER:  412519106160\n",
            "YOUR AMOUNT IS DEPOSITED\n",
            "DEPOSITED AMOUNT=  10000\n",
            "YOUR AMOUNT IS WITHDRAWN\n",
            "*****ACOUNT DETAILS*****\n",
            "ACCOUNT NUMBER=  412519106160\n",
            "WITHDRAWN AMOUNT=  1000\n",
            "BALACE AMOUNT=  9000\n"
          ]
        }
      ],
      "source": [
        "class userdetails():#PARENT CLASS\n",
        "    def __init__(self,name,age,gender,accountno):\n",
        "        self.name=name\n",
        "        self.age=age\n",
        "        self.gender=gender\n",
        "        self.accountno=accountno\n",
        "    def printf(self):\n",
        "        print(\"*****USER DETAILS*****\")\n",
        "        print(\"NAME: \",self.name)\n",
        "        print(\"AGE: \",self.age)\n",
        "        print(\"GENDER: \",self.gender) \n",
        "        print(\"ACCOUNTNUMBER: \",self.accountno)\n",
        "obj1=userdetails(\"suji\",19,\"female\",412519106160)\n",
        "obj1.printf()\n",
        "class bank(userdetails):    # CHILD CLASS\n",
        "    def __init__(self,name,age,gender,accountno):\n",
        "        super().__init__(name,age,gender,accountno)\n",
        "        self.balance=0 \n",
        "    def deposit(self,amount):\n",
        "        self.amount=amount\n",
        "        self.balance=self.balance+self.amount \n",
        "        print(\"YOUR AMOUNT IS DEPOSITED\")\n",
        "        print(\"DEPOSITED AMOUNT= \",self.amount)\n",
        "    def  withdraw(self,amount):\n",
        "        self.amount=amount\n",
        "        self.balance=self.balance-self.amount \n",
        "        print(\"YOUR AMOUNT IS WITHDRAWN\")\n",
        "    def  acc_details(self):\n",
        "        print(\"*****ACOUNT DETAILS*****\")\n",
        "        print(\"ACCOUNT NUMBER= \",self.accountno)\n",
        "        print(\"WITHDRAWN AMOUNT= \",self.amount)\n",
        "        print(\"BALACE AMOUNT= \",self.balance)\n",
        "obj1=bank(\"suji\",19,\"female\",412519106160)\n",
        "obj1.deposit(10000)\n",
        "obj1.withdraw(1000)\n",
        "obj1.acc_details()\n",
        "    "
      ]
    }
  ]
}