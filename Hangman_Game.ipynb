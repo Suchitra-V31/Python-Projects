{
  "nbformat": 4,
  "nbformat_minor": 0,
  "metadata": {
    "colab": {
      "name": "Hangman Game.ipynb",
      "provenance": [],
      "collapsed_sections": [],
      "authorship_tag": "ABX9TyMJj/szbHeQGLdGSTAJ0QIp",
      "include_colab_link": true
    },
    "kernelspec": {
      "name": "python3",
      "display_name": "Python 3"
    },
    "language_info": {
      "name": "python"
    }
  },
  "cells": [
    {
      "cell_type": "markdown",
      "metadata": {
        "id": "view-in-github",
        "colab_type": "text"
      },
      "source": [
        "<a href=\"https://colab.research.google.com/github/Suchitra-V31/Python-Projects/blob/main/Hangman_Game.ipynb\" target=\"_parent\"><img src=\"https://colab.research.google.com/assets/colab-badge.svg\" alt=\"Open In Colab\"/></a>"
      ]
    },
    {
      "cell_type": "code",
      "execution_count": 1,
      "metadata": {
        "colab": {
          "base_uri": "https://localhost:8080/"
        },
        "id": "BiLONIA5_e4A",
        "outputId": "d9823dc3-ab74-4986-a613-2abcdf2d0292"
      },
      "outputs": [
        {
          "output_type": "stream",
          "name": "stdout",
          "text": [
            "LET'S START OUR GAME!!!\n",
            "START GUESSING.....\n",
            "_\n",
            "_\n",
            "_\n",
            "_\n",
            "_\n",
            "_\n",
            "Enter the character u guess: animal\n",
            "_\n",
            "_\n",
            "_\n",
            "_\n",
            "_\n",
            "n\n",
            "Enter the character u guess: d\n",
            "_\n",
            "_\n",
            "_\n",
            "_\n",
            "_\n",
            "n\n",
            "Enter the character u guess: P\n",
            "P\n",
            "_\n",
            "_\n",
            "_\n",
            "_\n",
            "n\n",
            "Enter the character u guess: y\n",
            "P\n",
            "y\n",
            "_\n",
            "_\n",
            "_\n",
            "n\n",
            "Enter the character u guess: t\n",
            "P\n",
            "y\n",
            "t\n",
            "_\n",
            "_\n",
            "n\n",
            "Enter the character u guess: h\n",
            "Enter the character u guess: o\n",
            "P\n",
            "y\n",
            "t\n",
            "h\n",
            "_\n",
            "n\n",
            "P\n",
            "y\n",
            "t\n",
            "h\n",
            "o\n",
            "n\n",
            "CONGRATS!!!!YOU WIN!!!!YOU'RE GUESS IS CORRECT!!!\n",
            "THE WORD IS  Python\n"
          ]
        }
      ],
      "source": [
        "import random\n",
        "print(\"LET'S START OUR GAME!!!\")\n",
        "print(\"START GUESSING.....\")\n",
        "guesses=' '\n",
        "turns=10\n",
        "words=[\"run\",\"animal\",\"bird\",\"name\",\"Python\"]\n",
        "choice=random.choice(words)\n",
        "while(turns>0):\n",
        "    fail=0\n",
        "    for char in choice:\n",
        "        if char in guesses:\n",
        "            print(char)\n",
        "        else:\n",
        "            print(\"_\")\n",
        "            fail+=1 \n",
        "    if fail==0:\n",
        "        print(\"CONGRATS!!!!YOU WIN!!!!YOU'RE GUESS IS CORRECT!!!\")\n",
        "        print(\"THE WORD IS \",choice)\n",
        "        break\n",
        "    char_guess=input(\"Enter the character u guess: \")\n",
        "    guesses+=char_guess \n",
        "    if guesses not in choice:\n",
        "        turns-=1 \n",
        "    if turns==0:\n",
        "        print(\"OOPS!!!!YOU LOSE!!!\")\n",
        "        print(\"YOUR TURNS ARE GONE.....\")\n",
        "        print(\"GAME OVER!!!!!\")\n",
        "    "
      ]
    }
  ]
}