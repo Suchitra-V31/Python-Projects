{
  "nbformat": 4,
  "nbformat_minor": 0,
  "metadata": {
    "colab": {
      "name": "Simple Alarm Clock Using Python.ipynb",
      "provenance": [],
      "collapsed_sections": [],
      "authorship_tag": "ABX9TyO/UuX3r/ISHSEgTQZahD0l",
      "include_colab_link": true
    },
    "kernelspec": {
      "name": "python3",
      "display_name": "Python 3"
    },
    "language_info": {
      "name": "python"
    }
  },
  "cells": [
    {
      "cell_type": "markdown",
      "metadata": {
        "id": "view-in-github",
        "colab_type": "text"
      },
      "source": [
        "<a href=\"https://colab.research.google.com/github/Suchitra-V31/Python-Projects/blob/main/Simple_Alarm_Clock_Using_Python.ipynb\" target=\"_parent\"><img src=\"https://colab.research.google.com/assets/colab-badge.svg\" alt=\"Open In Colab\"/></a>"
      ]
    },
    {
      "cell_type": "code",
      "execution_count": 2,
      "metadata": {
        "colab": {
          "base_uri": "https://localhost:8080/"
        },
        "id": "Njth25cZAR8X",
        "outputId": "4f6b1afe-7bf0-479b-803e-08027658d23e"
      },
      "outputs": [
        {
          "output_type": "stream",
          "name": "stdout",
          "text": [
            "06\n",
            "38\n",
            "AM\n",
            "ENTER HOUR: 7\n",
            "ENTER MINUTES:43\n",
            "ENTER AM/PM: AM\n",
            "ALARM SET!!!!\n"
          ]
        }
      ],
      "source": [
        "\n",
        "import datetime\n",
        "now=datetime.datetime.now()\n",
        "curr_hour=now.strftime(\"%I\")\n",
        "print(curr_hour)\n",
        "curr_min=now.strftime(\"%M\")\n",
        "print(curr_min)\n",
        "curr_period=now.strftime(\"%p\")\n",
        "print(curr_period)\n",
        "alarm_hour=int(input(\"ENTER HOUR: \"))\n",
        "alarm_min=int(input(\"ENTER MINUTES:\"))\n",
        "alarm_period=input(\"ENTER AM/PM: \")\n",
        "if(curr_period==alarm_period):\n",
        "    if(int(curr_hour)==alarm_hour):\n",
        "        if(int(curr_min)==alarm_min):\n",
        "                print(\"WAKE UP!!!!!IT'S TIME UP!!!!\")\n",
        "print(\"ALARM SET!!!!\")\n",
        "                "
      ]
    }
  ]
}