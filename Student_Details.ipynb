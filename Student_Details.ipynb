{
  "nbformat": 4,
  "nbformat_minor": 0,
  "metadata": {
    "colab": {
      "name": "Student Details.ipynb",
      "provenance": [],
      "collapsed_sections": [],
      "authorship_tag": "ABX9TyPZjbGWTLWcc1TCWh1eVcep",
      "include_colab_link": true
    },
    "kernelspec": {
      "name": "python3",
      "display_name": "Python 3"
    },
    "language_info": {
      "name": "python"
    }
  },
  "cells": [
    {
      "cell_type": "markdown",
      "metadata": {
        "id": "view-in-github",
        "colab_type": "text"
      },
      "source": [
        "<a href=\"https://colab.research.google.com/github/Suchitra-V31/Python-Projects/blob/main/Student_Details.ipynb\" target=\"_parent\"><img src=\"https://colab.research.google.com/assets/colab-badge.svg\" alt=\"Open In Colab\"/></a>"
      ]
    },
    {
      "cell_type": "code",
      "execution_count": 5,
      "metadata": {
        "colab": {
          "base_uri": "https://localhost:8080/"
        },
        "id": "2VTylvTUHXPn",
        "outputId": "eae0ae3f-4d7d-4670-dc8a-a133bdfb9d1f"
      },
      "outputs": [
        {
          "output_type": "stream",
          "name": "stdout",
          "text": [
            "*****STUDENTS LIST*****\n",
            "0.FINAL LIST\n",
            "1.SHOWING THE LIST OF STUDENTS\n",
            "2.ADD NEW STUDENTS\n",
            "3.SEARCH FOR A STUDENT\n",
            "4.DELETE A STUDENT\n",
            "Enter the choice: 1\n",
            "_____LIST OF STUDENTS______\n",
            "SUJI\n",
            "RAJ\n",
            "VALLI\n",
            "RAMYA\n",
            "ANU\n",
            "SURAJ\n",
            "ARUN\n",
            "*****STUDENTS LIST*****\n",
            "0.FINAL LIST\n",
            "1.SHOWING THE LIST OF STUDENTS\n",
            "2.ADD NEW STUDENTS\n",
            "3.SEARCH FOR A STUDENT\n",
            "4.DELETE A STUDENT\n",
            "Enter the choice: 2\n",
            "Enter the name of the new student:  AMMU\n",
            "Sucessfully Added!\n",
            "*****STUDENTS LIST*****\n",
            "0.FINAL LIST\n",
            "1.SHOWING THE LIST OF STUDENTS\n",
            "2.ADD NEW STUDENTS\n",
            "3.SEARCH FOR A STUDENT\n",
            "4.DELETE A STUDENT\n",
            "Enter the choice: 1\n",
            "_____LIST OF STUDENTS______\n",
            "SUJI\n",
            "RAJ\n",
            "VALLI\n",
            "RAMYA\n",
            "ANU\n",
            "SURAJ\n",
            "ARUN\n",
            "AMMU\n",
            "*****STUDENTS LIST*****\n",
            "0.FINAL LIST\n",
            "1.SHOWING THE LIST OF STUDENTS\n",
            "2.ADD NEW STUDENTS\n",
            "3.SEARCH FOR A STUDENT\n",
            "4.DELETE A STUDENT\n",
            "Enter the choice: 4\n",
            "Enter the name of the students u need to delete: ANU\n",
            "Sucessfully deleted!\n",
            "*****STUDENTS LIST*****\n",
            "0.FINAL LIST\n",
            "1.SHOWING THE LIST OF STUDENTS\n",
            "2.ADD NEW STUDENTS\n",
            "3.SEARCH FOR A STUDENT\n",
            "4.DELETE A STUDENT\n",
            "Enter the choice: 0\n",
            "Successfully Made the changes\n",
            "_____LIST OF STUDENTS______\n",
            "SUJI\n",
            "RAJ\n",
            "VALLI\n",
            "RAMYA\n",
            "SURAJ\n",
            "ARUN\n",
            "AMMU\n"
          ]
        }
      ],
      "source": [
        "\n",
        "def l_o_std(list1):\n",
        "    print(\"_____LIST OF STUDENTS______\")\n",
        "    for i in list1:\n",
        "      print(i)\n",
        "def add_std(list1):\n",
        "    new_std=input(\"Enter the name of the new student:  \")\n",
        "    list1.append(new_std)\n",
        "    print(\"Sucessfully Added!\")\n",
        "def search_std(list1):\n",
        "    s_std=input(\"Enter the name of the student u need to search: \")\n",
        "    if s_std in list1:\n",
        "        print(\"YOUR SEARCH IS FOUND\")\n",
        "    else:\n",
        "        print(\"YOUR SEARCH IS NOT FOUND\")\n",
        "def delete_std(list1):\n",
        "    d_std=input(\"Enter the name of the students u need to delete: \")\n",
        "    if d_std in list1:\n",
        "        list1.remove(d_std)\n",
        "    print('Sucessfully deleted!')\n",
        "list1=[\"SUJI\",\"RAJ\",\"VALLI\",\"RAMYA\",\"ANU\",\"SURAJ\",\"ARUN\"]\n",
        "while True:\n",
        "    print(\"*****STUDENTS LIST*****\")\n",
        "    print(\"0.FINAL LIST\")\n",
        "    print(\"1.SHOWING THE LIST OF STUDENTS\")\n",
        "    print(\"2.ADD NEW STUDENTS\")\n",
        "    print(\"3.SEARCH FOR A STUDENT\")\n",
        "    print(\"4.DELETE A STUDENT\")\n",
        "    choice=int(input(\"Enter the choice: \"))\n",
        "    if (choice==1):\n",
        "        l_o_std(list1)\n",
        "    elif(choice==2):\n",
        "        add_std(list1)\n",
        "    elif(choice==3):\n",
        "        search_std(list1)\n",
        "    elif(choice==4): \n",
        "        delete_std(list1)\n",
        "    elif(choice==0):\n",
        "        print(\"Successfully Made the changes\")\n",
        "        l_o_std(list1)\n",
        "        break\n",
        "    else:\n",
        "        print(\"OOps!!!!! Enter a valid choice\")"
      ]
    }
  ]
}