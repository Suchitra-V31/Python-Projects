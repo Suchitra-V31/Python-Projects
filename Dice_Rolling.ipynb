{
  "nbformat": 4,
  "nbformat_minor": 0,
  "metadata": {
    "colab": {
      "name": "Dice Rolling.ipynb",
      "provenance": [],
      "collapsed_sections": [],
      "authorship_tag": "ABX9TyOSdJDF0JUXwBy/8MnGoyeB",
      "include_colab_link": true
    },
    "kernelspec": {
      "name": "python3",
      "display_name": "Python 3"
    },
    "language_info": {
      "name": "python"
    }
  },
  "cells": [
    {
      "cell_type": "markdown",
      "metadata": {
        "id": "view-in-github",
        "colab_type": "text"
      },
      "source": [
        "<a href=\"https://colab.research.google.com/github/Suchitra-V31/Python-Projects/blob/main/Dice_Rolling.ipynb\" target=\"_parent\"><img src=\"https://colab.research.google.com/assets/colab-badge.svg\" alt=\"Open In Colab\"/></a>"
      ]
    },
    {
      "cell_type": "code",
      "execution_count": 2,
      "metadata": {
        "colab": {
          "base_uri": "https://localhost:8080/"
        },
        "id": "SfLHmH-AB-uS",
        "outputId": "a814af52-63e7-4ad4-9f35-0e16f5c1a1c2"
      },
      "outputs": [
        {
          "output_type": "stream",
          "name": "stdout",
          "text": [
            "LET'S START OUR GAME!!!!\n",
            "READY!!!!SET!!!!GO!!!!\n",
            "ROLL A DICE.....\n",
            "Enter whether u need to roll a dice or not(yes or no): yes\n",
            "ROLL A DICE.....\n",
            "DICE value is :  6\n",
            "Enter whether u need to roll a dice or not(yes or no): yes\n",
            "ROLL A DICE.....\n",
            "DICE value is :  4\n",
            "Enter whether u need to roll a dice or not(yes or no): yes\n",
            "ROLL A DICE.....\n",
            "DICE value is :  1\n",
            "Enter whether u need to roll a dice or not(yes or no): no\n",
            "YOU ENDED THE GAME....\n"
          ]
        }
      ],
      "source": [
        "import random\n",
        "print(\"LET'S START OUR GAME!!!!\")\n",
        "print(\"READY!!!!SET!!!!GO!!!!\")\n",
        "print(\"ROLL A DICE.....\")\n",
        "seq=[1,2,3,4,5,6]\n",
        "while(True):\n",
        "    n=input(\"Enter whether u need to roll a dice or not(yes or no): \")\n",
        "    if n==\"yes\":\n",
        "        print(\"ROLL A DICE.....\")\n",
        "        choice=random.choice(seq)\n",
        "        print(\"DICE value is : \",choice)\n",
        "    else:\n",
        "        print(\"YOU ENDED THE GAME....\")\n",
        "        break"
      ]
    },
    {
      "cell_type": "code",
      "source": [
        ""
      ],
      "metadata": {
        "id": "QIRBh9PVB_n1"
      },
      "execution_count": null,
      "outputs": []
    }
  ]
}