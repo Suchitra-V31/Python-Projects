{
  "nbformat": 4,
  "nbformat_minor": 0,
  "metadata": {
    "colab": {
      "name": "Guessing a number using python.ipynb",
      "provenance": [],
      "collapsed_sections": [],
      "authorship_tag": "ABX9TyPgq3BiczfkwPXUlHJWm8V3",
      "include_colab_link": true
    },
    "kernelspec": {
      "name": "python3",
      "display_name": "Python 3"
    },
    "language_info": {
      "name": "python"
    }
  },
  "cells": [
    {
      "cell_type": "markdown",
      "metadata": {
        "id": "view-in-github",
        "colab_type": "text"
      },
      "source": [
        "<a href=\"https://colab.research.google.com/github/Suchitra-V31/Python-Projects/blob/main/Guessing_a_number_using_python.ipynb\" target=\"_parent\"><img src=\"https://colab.research.google.com/assets/colab-badge.svg\" alt=\"Open In Colab\"/></a>"
      ]
    },
    {
      "cell_type": "code",
      "execution_count": 1,
      "metadata": {
        "colab": {
          "base_uri": "https://localhost:8080/"
        },
        "id": "IiPpqK4F-Y0o",
        "outputId": "796b0958-3bef-47fc-ae03-b5e03fcef42c"
      },
      "outputs": [
        {
          "output_type": "stream",
          "name": "stdout",
          "text": [
            "Let's start the GAME!!!\n",
            "_____Now u can start GUESSING____\n",
            "Enter the number u guess: 2\n",
            "SORRY!!!! TRY AGAIN....YOUR GUESS IS TOO LOW.....\n",
            "Enter the number u guess: 65\n",
            "SORRY!!!! TRY AGAIN....YOUR GUESS IS TOO LOW.....\n",
            "Enter the number u guess: 76\n",
            "SORRY!!!! TRY AGAIN....YOUR GUESS IS TOO LOW.....\n",
            "Enter the number u guess: 89\n",
            "SORRY!!!! TRY AGAIN......YOUR GUESS IS TOO HIGH....\n",
            "Enter the number u guess: 79\n",
            "SORRY!!!! TRY AGAIN....YOUR GUESS IS TOO LOW.....\n",
            "Enter the number u guess: 80\n",
            "SORRY!!!! TRY AGAIN....YOUR GUESS IS TOO LOW.....\n",
            "Enter the number u guess: 85\n",
            "YOU WIN!!!! YOUUR GUESS IS CORRECT....\n",
            "You have made 6 number of guesses\n"
          ]
        }
      ],
      "source": [
        "import random\n",
        "guess=0\n",
        "limit =10\n",
        "print(\"Let's start the GAME!!!\")\n",
        "r_num=random.randint(1,100)\n",
        "print(\"_____Now u can start GUESSING____\")\n",
        "while(guess!=limit):\n",
        "    val=int(input(\"Enter the number u guess: \"))\n",
        "    if (val==r_num):\n",
        "       print(\"YOU WIN!!!! YOUUR GUESS IS CORRECT....\")\n",
        "       break\n",
        "    elif(val<r_num):\n",
        "        print(\"SORRY!!!! TRY AGAIN....YOUR GUESS IS TOO LOW.....\")\n",
        "        guess+=1\n",
        "    elif(val>r_num):\n",
        "        print(\"SORRY!!!! TRY AGAIN......YOUR GUESS IS TOO HIGH....\")\n",
        "        guess+=1 \n",
        "print(\"You have made %d number of guesses\" %guess)"
      ]
    }
  ]
}