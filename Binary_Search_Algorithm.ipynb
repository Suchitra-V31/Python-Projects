{
  "nbformat": 4,
  "nbformat_minor": 0,
  "metadata": {
    "colab": {
      "name": "Binary Search Algorithm.ipynb",
      "provenance": [],
      "collapsed_sections": [],
      "authorship_tag": "ABX9TyPeYBP9FrxAPqb/11TFb9MV",
      "include_colab_link": true
    },
    "kernelspec": {
      "name": "python3",
      "display_name": "Python 3"
    },
    "language_info": {
      "name": "python"
    }
  },
  "cells": [
    {
      "cell_type": "markdown",
      "metadata": {
        "id": "view-in-github",
        "colab_type": "text"
      },
      "source": [
        "<a href=\"https://colab.research.google.com/github/Suchitra-V31/Python-Projects/blob/main/Binary_Search_Algorithm.ipynb\" target=\"_parent\"><img src=\"https://colab.research.google.com/assets/colab-badge.svg\" alt=\"Open In Colab\"/></a>"
      ]
    },
    {
      "cell_type": "code",
      "execution_count": 2,
      "metadata": {
        "colab": {
          "base_uri": "https://localhost:8080/"
        },
        "id": "fk_upnDnGA0q",
        "outputId": "6c92f89a-203d-40f1-b74a-2c11940bf479"
      },
      "outputs": [
        {
          "output_type": "stream",
          "name": "stdout",
          "text": [
            "Enter the no of elements entered: 5\n",
            "1\n",
            "2\n",
            "3\n",
            "4\n",
            "5\n",
            "[1, 2, 3, 4, 5]\n",
            "Enter the number to be searched: 4\n",
            "YOU'RE SEARCH IS FOUND!!!!!!\n"
          ]
        }
      ],
      "source": [
        "n=int(input(\"Enter the no of elements entered: \"))\n",
        "i=0\n",
        "l=[]\n",
        "for i in range(1,n+1):\n",
        "    print(i)\n",
        "    l.append(i)\n",
        "print(l)\n",
        "val=int(input(\"Enter the number to be searched: \"))\n",
        "beg=0\n",
        "end=n-1\n",
        "found=0\n",
        "while(beg<=end):\n",
        "    mid=int((beg+end)/2)\n",
        "    if l[mid]==val:\n",
        "       found=1 \n",
        "       break\n",
        "    elif l[mid]>val :\n",
        "        end=mid-1 \n",
        "    elif l[mid]<val:\n",
        "        beg=mid+1\n",
        "if found==1:\n",
        "     print(\"YOU'RE SEARCH IS FOUND!!!!!!\")\n",
        "else:\n",
        "    print(\"OOPS!!!!YOU'RE SEARCH IS NOT FOUND!!!!\")\n"
      ]
    },
    {
      "cell_type": "code",
      "source": [
        ""
      ],
      "metadata": {
        "id": "lYiTkxsYGOX1"
      },
      "execution_count": null,
      "outputs": []
    }
  ]
}