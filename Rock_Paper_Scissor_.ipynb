{
  "nbformat": 4,
  "nbformat_minor": 0,
  "metadata": {
    "colab": {
      "name": "Rock Paper Scissor .ipynb",
      "provenance": [],
      "authorship_tag": "ABX9TyNADNyOosG4bjvLaVaonKdQ",
      "include_colab_link": true
    },
    "kernelspec": {
      "name": "python3",
      "display_name": "Python 3"
    },
    "language_info": {
      "name": "python"
    }
  },
  "cells": [
    {
      "cell_type": "markdown",
      "metadata": {
        "id": "view-in-github",
        "colab_type": "text"
      },
      "source": [
        "<a href=\"https://colab.research.google.com/github/Suchitra-V31/Python-Projects/blob/main/Rock_Paper_Scissor_.ipynb\" target=\"_parent\"><img src=\"https://colab.research.google.com/assets/colab-badge.svg\" alt=\"Open In Colab\"/></a>"
      ]
    },
    {
      "cell_type": "code",
      "execution_count": 1,
      "metadata": {
        "colab": {
          "base_uri": "https://localhost:8080/"
        },
        "id": "Rro1pOVA-64O",
        "outputId": "0caae27e-cb8f-46b0-aa63-40e3f3417621"
      },
      "outputs": [
        {
          "output_type": "stream",
          "name": "stdout",
          "text": [
            "_____LET'S START THE GAME!!!!!_____\n",
            "Enter your choice(rock,paper,scissor,end): paper\n",
            "The COMPUTER CHOICE IS :  scissor\n",
            "OOPS!!!!YOU LOSE ONE POINT\n",
            "Enter your choice(rock,paper,scissor,end): rock\n",
            "The COMPUTER CHOICE IS :  rock\n",
            "YOU WIN!!!!!!YOU GOT ONE POINT\n",
            "Enter your choice(rock,paper,scissor,end): paper\n",
            "The COMPUTER CHOICE IS :  paper\n",
            "YOU WIN!!!!!!YOU GOT ONE POINT\n",
            "Enter your choice(rock,paper,scissor,end): end\n",
            "The COMPUTER CHOICE IS :  rock\n",
            "YOUR GAME EXITS!!!!!!!!1\n",
            "YOUR TOTAL POINT IS :  1\n",
            "COMPUTER POINT IS:  3\n",
            "YOU LOSE THE GAME\n"
          ]
        }
      ],
      "source": [
        "import random\n",
        "U_pts=0\n",
        "C_pts=0\n",
        "choices=[\"rock\",\"paper\",\"scissor\"]\n",
        "print(\"_____LET'S START THE GAME!!!!!_____\")\n",
        "while True:\n",
        "    user_choice=input(\"Enter your choice(rock,paper,scissor,end): \")\n",
        "    comp_choice=random.choice(choices)\n",
        "    print(\"The COMPUTER CHOICE IS : \",comp_choice)\n",
        "    if (user_choice==comp_choice):\n",
        "        print(\"YOU WIN!!!!!!YOU GOT ONE POINT\")\n",
        "        U_pts+=1\n",
        "        C_pts+=1 \n",
        "    elif(user_choice==\"rock\" and comp_choice==\"scissor\"):\n",
        "        print(\"YOU WIN!!!!!!YOU GOT ONE POINT\")\n",
        "        U_pts+=1 \n",
        "        C_pts-=1 \n",
        "    elif(user_choice==\"scissor\" and comp_choice==\"rock\"):\n",
        "        print(\"OOPS!!!!YOU LOSE ONE POINT\")\n",
        "        U_pts-=1 \n",
        "        C_pts+=1 \n",
        "    elif(user_choice==\"scissor\" and comp_choice==\"paper\"):\n",
        "        print(\"YOU WIN!!!!!!YOU GOT ONE POINT\")\n",
        "        U_pts+=1\n",
        "        C_pts+=1 \n",
        "    elif(user_choice==\"paper\" and comp_choice==\"scissor\"):\n",
        "        print(\"OOPS!!!!YOU LOSE ONE POINT\")\n",
        "        U_pts-=1 \n",
        "        C_pts+=1 \n",
        "    elif(user_choice==\"paper\" and comp_choice==\"rock\"):\n",
        "        print(\"YOU WIN!!!!!!YOU GOT ONE POINT\")\n",
        "        U_pts+=1\n",
        "        C_pts+=1\n",
        "    elif(user_choice==\"rock\" and comp_choice==\"paper\"):\n",
        "        print(\"OOPS!!!!YOU LOSE ONE POINT\")\n",
        "        U_pts-=1 \n",
        "        C_pts+=1\n",
        "    elif(user_choice==\"end\"):\n",
        "        print(\"YOUR GAME EXITS!!!!!!!!1\")\n",
        "        break\n",
        "print(\"YOUR TOTAL POINT IS : \",U_pts)\n",
        "print(\"COMPUTER POINT IS: \",C_pts)\n",
        "if(U_pts>C_pts):\n",
        "    print(\"CONGRATS!!!!!!YOU WON THE GAME!!!!!\")\n",
        "else:\n",
        "    print(\"YOU LOSE THE GAME\")\n"
      ]
    }
  ]
}