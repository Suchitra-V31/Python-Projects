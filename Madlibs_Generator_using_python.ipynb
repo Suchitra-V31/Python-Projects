{
  "nbformat": 4,
  "nbformat_minor": 0,
  "metadata": {
    "colab": {
      "name": "Madlibs Generator using python.ipynb",
      "provenance": [],
      "collapsed_sections": [],
      "authorship_tag": "ABX9TyOgQ1jqX5rGd7/TcUBLGpDF",
      "include_colab_link": true
    },
    "kernelspec": {
      "name": "python3",
      "display_name": "Python 3"
    },
    "language_info": {
      "name": "python"
    }
  },
  "cells": [
    {
      "cell_type": "markdown",
      "metadata": {
        "id": "view-in-github",
        "colab_type": "text"
      },
      "source": [
        "<a href=\"https://colab.research.google.com/github/Suchitra-V31/Python-Projects/blob/main/Madlibs_Generator_using_python.ipynb\" target=\"_parent\"><img src=\"https://colab.research.google.com/assets/colab-badge.svg\" alt=\"Open In Colab\"/></a>"
      ]
    },
    {
      "cell_type": "code",
      "execution_count": 1,
      "metadata": {
        "colab": {
          "base_uri": "https://localhost:8080/"
        },
        "id": "lEvam3toA57N",
        "outputId": "dc3120f4-a0ba-4fa6-f8a4-2940069df095"
      },
      "outputs": [
        {
          "output_type": "stream",
          "name": "stdout",
          "text": [
            "LET'S START OUR GAME!!!!!!\n",
            "Fill out these questions to generate your own silly mad libs letter instantly online!\n",
            "Hint: A Verb is an action.\n",
            "      An adverb usually ends in “ly” and describes an action (like slowly).\n",
            "      A noun is a person/place/thing. An adjective describes a person/place/thing.\n",
            "Enter Thing(plural): pencil\n",
            "Enter game:  tennis\n",
            "Enter animal: dog\n",
            "Enter verb(ending with ing): dancing\n",
            "Enter emotion: smile\n",
            "Enter place: chennai\n",
            "Enter Person: tom\n",
            "Enter food(plural): dosa's\n",
            "Tomorrow I head back to school, so my mom and I did some last minute shopping.\t\n",
            "My mom said I would need pencil for school, but I convinced her to get tennis instead.\t\n",
            "When we got home, I picked out the shirt I'm going to wear tomorrow.\t\n",
            "It has a(n) dog \t\n",
            "dancing on it \t\n",
            "I like it because it shows the other kids I'm smile --like a kid from chennai .\t\n",
            "There are so many questions going through my head about tomorrow.\t\n",
            "I know my best friend tom is in my class, but will we get to sit next to each other? Will they have dosa's for lunch again this year?\t\n",
            "Will I get to play tennis during recess? I'll find out tomorrow -- it'll be fun!\t\n"
          ]
        }
      ],
      "source": [
        "print(\"LET'S START OUR GAME!!!!!!\")\n",
        "print(\"Fill out these questions to generate your own silly mad libs letter instantly online!\")\n",
        "print(\"Hint: A Verb is an action.\")\n",
        "print(\"      An adverb usually ends in “ly” and describes an action (like slowly).\")\n",
        "print(\"      A noun is a person/place/thing. An adjective describes a person/place/thing.\")\n",
        "thing=input(\"Enter Thing(plural): \")\n",
        "game=input(\"Enter game:  \")\n",
        "animal=input(\"Enter animal: \")\n",
        "verb=input(\"Enter verb(ending with ing): \")\n",
        "emotion=input(\"Enter emotion: \")\n",
        "place=input(\"Enter place: \")\n",
        "person=input(\"Enter Person: \")\n",
        "food=input(\"Enter food(plural): \")\n",
        "print(\"Tomorrow I head back to school, so my mom and I did some last minute shopping.\\t\")\n",
        "print(\"My mom said I would need\",thing,\"for school, but I convinced her to get\",game,\"instead.\\t\")\n",
        "print(\"When we got home, I picked out the shirt I'm going to wear tomorrow.\\t\")\n",
        "print(\"It has a(n)\",animal,\"\\t\")\n",
        "print(verb,\"on it \\t\")\n",
        "print(\"I like it because it shows the other kids I'm\" ,emotion,\"--like a kid from\",place,\".\\t\")\n",
        "print(\"There are so many questions going through my head about tomorrow.\\t\")\n",
        "print(\"I know my best friend\",person,\"is in my class, but will we get to sit next to each other? Will they have\",food,\"for lunch again this year?\\t\")\n",
        "print(\"Will I get to play\",game, \"during recess? I'll find out tomorrow -- it'll be fun!\\t\")"
      ]
    }
  ]
}